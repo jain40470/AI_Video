{
 "cells": [
  {
   "cell_type": "code",
   "execution_count": 26,
   "metadata": {},
   "outputs": [],
   "source": [
    "from langchain_google_genai import ChatGoogleGenerativeAI \n",
    "from langchain_groq import ChatGroq\n",
    "from dotenv import load_dotenv\n",
    "import os\n"
   ]
  },
  {
   "cell_type": "code",
   "execution_count": 27,
   "metadata": {},
   "outputs": [],
   "source": [
    "GOOGLE_API_KEY = os.getenv(\"GOOGLE_API_KEY\")\n",
    "os.environ[\"GOOGLE_API_KEY\"] = GOOGLE_API_KEY\n",
    "llm = ChatGoogleGenerativeAI(model = \"gemini-1.5-pro\"\t , temperature = 0.7 , max_tokens=200)\n"
   ]
  },
  {
   "cell_type": "code",
   "execution_count": 28,
   "metadata": {},
   "outputs": [],
   "source": [
    "GROQ_API_KEY  = os.getenv(\"GROQ_API_KEY\")\n",
    "os.environ[\"GROQ_API_KEY\"] = GROQ_API_KEY\n",
    "llm = ChatGroq(model=\"Gemma2-9b-It\")\n"
   ]
  },
  {
   "cell_type": "code",
   "execution_count": 29,
   "metadata": {},
   "outputs": [],
   "source": [
    "from langchain.prompts import ChatPromptTemplate\n",
    "\n",
    "prompt_template = ChatPromptTemplate.from_template(\n",
    "    \"Write 5 short captions (max 8 words each) for a social video ad. Use a hook and storytelling style. Topic: {topic}\"\n",
    ")\n",
    "\n",
    "def script_writer(state: dict) -> dict:\n",
    "    prompt = prompt_template.format_messages(topic=state[\"prompt\"])\n",
    "    response = llm(prompt)\n",
    "    text = response.content.strip()\n",
    "    print(response)\n",
    "    captions = [line.strip(\"-• \").strip() for line in text.split(\"\\n\") if line.strip()]\n",
    "    return {**state, \"captions\": captions}\n"
   ]
  },
  {
   "cell_type": "code",
   "execution_count": 30,
   "metadata": {},
   "outputs": [
    {
     "name": "stdout",
     "output_type": "stream",
     "text": [
      "content=\"Here are 5 short captions (max 8 words each) for a car social video ad, using a hook and storytelling style:\\n\\n1. **Craving adventure? This car is ready.**\\n2. **Escape the ordinary.  Hit the open road.**\\n3. **One drive.  Endless possibilities.**\\n4. **Where will your journey take you?**\\n5. **Built for life.  Live it to the fullest.** \\n\\n\\nLet me know if you'd like more options! \\n\" additional_kwargs={} response_metadata={'token_usage': {'completion_tokens': 109, 'prompt_tokens': 39, 'total_tokens': 148, 'completion_time': 0.198181818, 'prompt_time': 0.002275503, 'queue_time': 0.24867157699999998, 'total_time': 0.200457321}, 'model_name': 'Gemma2-9b-It', 'system_fingerprint': 'fp_10c08bf97d', 'finish_reason': 'stop', 'logprobs': None} id='run--02c521bd-9d01-4fda-adc1-29a018bfab56-0' usage_metadata={'input_tokens': 39, 'output_tokens': 109, 'total_tokens': 148}\n"
     ]
    },
    {
     "data": {
      "text/plain": [
       "['Here are 5 short captions (max 8 words each) for a car social video ad, using a hook and storytelling style:',\n",
       " '1. **Craving adventure? This car is ready.**',\n",
       " '2. **Escape the ordinary.  Hit the open road.**',\n",
       " '3. **One drive.  Endless possibilities.**',\n",
       " '4. **Where will your journey take you?**',\n",
       " '5. **Built for life.  Live it to the fullest.**',\n",
       " \"Let me know if you'd like more options!\"]"
      ]
     },
     "execution_count": 30,
     "metadata": {},
     "output_type": "execute_result"
    }
   ],
   "source": [
    "state = {\"prompt\": \"Advertisement for Car\"}\n",
    "state = script_writer(state)\n",
    "state[\"captions\"]\n"
   ]
  },
  {
   "cell_type": "code",
   "execution_count": 31,
   "metadata": {},
   "outputs": [],
   "source": [
    "from gtts import gTTS\n",
    "\n",
    "def voice_actor(state: dict) -> dict:\n",
    "    captions = state[\"captions\"]\n",
    "    output_dir = \"outputs/audio\"\n",
    "    os.makedirs(output_dir, exist_ok=True)\n",
    "    audio_paths = []\n",
    "\n",
    "    for i, caption in enumerate(captions):\n",
    "        file_path = os.path.join(output_dir, f\"caption_{i}.mp3\")\n",
    "        gTTS(text=caption, lang='en').save(file_path)\n",
    "        audio_paths.append(file_path)\n",
    "\n",
    "    return {**state, \"audio_paths\": audio_paths}\n"
   ]
  },
  {
   "cell_type": "code",
   "execution_count": 32,
   "metadata": {},
   "outputs": [
    {
     "data": {
      "text/plain": [
       "['outputs/audio/caption_0.mp3',\n",
       " 'outputs/audio/caption_1.mp3',\n",
       " 'outputs/audio/caption_2.mp3',\n",
       " 'outputs/audio/caption_3.mp3',\n",
       " 'outputs/audio/caption_4.mp3',\n",
       " 'outputs/audio/caption_5.mp3',\n",
       " 'outputs/audio/caption_6.mp3']"
      ]
     },
     "execution_count": 32,
     "metadata": {},
     "output_type": "execute_result"
    }
   ],
   "source": [
    "state = voice_actor(state)\n",
    "state[\"audio_paths\"]\n"
   ]
  },
  {
   "cell_type": "code",
   "execution_count": null,
   "metadata": {},
   "outputs": [],
   "source": [
    "import os\n",
    "import subprocess\n",
    "\n",
    "\n",
    "image_path = \"/Users/akashjain/Desktop/AI_Video/Backend/Notebook/outputs/images/image_6.png\"\n",
    "audio_mp3_path = \"/Users/akashjain/Desktop/AI_Video/Backend/Notebook/outputs/audio/caption_0.mp3\"\n",
    "audio_wav_path = \"audio.wav\"  # Temp file\n",
    "model_path = \"Wav2Lip.pth\"\n"
   ]
  },
  {
   "cell_type": "code",
   "execution_count": null,
   "metadata": {},
   "outputs": [],
   "source": [
    "\n",
    "# Step 1: Convert MP3 to 16kHz mono WAV\n",
    "print(\"🔁 Converting MP3 to WAV...\")\n",
    "subprocess.run([\n",
    "    \"ffmpeg\", \"-y\", \"-i\", audio_mp3_path,\n",
    "    \"-ar\", \"16000\", \"-ac\", \"1\", \"-c:a\", \"pcm_s16le\", audio_wav_path\n",
    "], check=True)\n",
    "\n",
    "# Step 2: Run Wav2Lip\n",
    "print(\"🎬 Running Wav2Lip inference...\")\n",
    "subprocess.run([\n",
    "    \"python3\", \"inference.py\",\n",
    "    \"--checkpoint_path\", model_path,\n",
    "    \"--face\", image_path,\n",
    "    \"--audio\", audio_wav_path\n",
    "], check=True)\n",
    "\n",
    "print(\"\\n✅ Done! Output video saved to: results/result_voice.mp4\")\n"
   ]
  }
 ],
 "metadata": {
  "kernelspec": {
   "display_name": "aivideo",
   "language": "python",
   "name": "python3"
  },
  "language_info": {
   "codemirror_mode": {
    "name": "ipython",
    "version": 3
   },
   "file_extension": ".py",
   "mimetype": "text/x-python",
   "name": "python",
   "nbconvert_exporter": "python",
   "pygments_lexer": "ipython3",
   "version": "3.9.6"
  }
 },
 "nbformat": 4,
 "nbformat_minor": 2
}
